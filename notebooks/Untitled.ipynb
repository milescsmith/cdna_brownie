{
 "cells": [
  {
   "cell_type": "code",
   "execution_count": 57,
   "id": "3815070d-075b-41e1-8e8a-391797cf0948",
   "metadata": {},
   "outputs": [],
   "source": [
    "group = \"a\"\n",
    "gff = \"def\"\n",
    "count = \"jkl,mno,pqr\""
   ]
  },
  {
   "cell_type": "code",
   "execution_count": 58,
   "id": "83d8bfa1-610a-4eae-8726-a3fc90b995e1",
   "metadata": {},
   "outputs": [],
   "source": [
    "things = {\n",
    "    \"group\": group,\n",
    "    \"annotation\": gff,\n",
    "    \"count\": count\n",
    "}"
   ]
  },
  {
   "cell_type": "code",
   "execution_count": 59,
   "id": "030ca4ca-cc62-4155-837f-20d7cf8ba4e4",
   "metadata": {},
   "outputs": [
    {
     "data": {
      "text/plain": [
       "{'group': 'a', 'annotation': 'def', 'count': 'jkl,mno,pqr'}"
      ]
     },
     "execution_count": 59,
     "metadata": {},
     "output_type": "execute_result"
    }
   ],
   "source": [
    "things"
   ]
  },
  {
   "cell_type": "code",
   "execution_count": 60,
   "id": "1fe03d45-6a8a-4f1d-a083-62b619459073",
   "metadata": {},
   "outputs": [],
   "source": [
    "for x in things:\n",
    "    things[x] = [_ for _ in things[x].split(\",\")]"
   ]
  },
  {
   "cell_type": "code",
   "execution_count": 61,
   "id": "d36e9126-f8ea-4f4a-b3f4-c466c2ebba31",
   "metadata": {},
   "outputs": [
    {
     "data": {
      "text/plain": [
       "{'group': ['a'], 'annotation': ['def'], 'count': ['jkl', 'mno', 'pqr']}"
      ]
     },
     "execution_count": 61,
     "metadata": {},
     "output_type": "execute_result"
    }
   ],
   "source": [
    "things"
   ]
  },
  {
   "cell_type": "code",
   "execution_count": 37,
   "id": "65f69a4f-8412-4274-9e79-0173f35a3a9b",
   "metadata": {},
   "outputs": [],
   "source": [
    "from pathlib import Path"
   ]
  },
  {
   "cell_type": "code",
   "execution_count": 62,
   "id": "5a20c84e-6494-47a1-88b5-a871b86ee677",
   "metadata": {},
   "outputs": [],
   "source": [
    "directories = [Path(\"bc1001\"), Path(\"bc1002\"), Path(\"bc1002\")]"
   ]
  },
  {
   "cell_type": "code",
   "execution_count": 67,
   "id": "96025fcd-def2-4ac7-b67b-cde0349b662f",
   "metadata": {},
   "outputs": [],
   "source": [
    "newthings = {\n",
    "    \"group\": group,\n",
    "    \"annotation\": gff,\n",
    "    \"count\": count\n",
    "}"
   ]
  },
  {
   "cell_type": "code",
   "execution_count": 68,
   "id": "4ab91ff1-ee91-4e3c-af9f-62b4663622a7",
   "metadata": {},
   "outputs": [
    {
     "data": {
      "text/plain": [
       "{'group': 'a', 'annotation': 'def', 'count': 'jkl,mno,pqr'}"
      ]
     },
     "execution_count": 68,
     "metadata": {},
     "output_type": "execute_result"
    }
   ],
   "source": [
    "newthings"
   ]
  },
  {
   "cell_type": "code",
   "execution_count": 69,
   "id": "38738956-8194-46f5-9a59-05b3e6cebb85",
   "metadata": {},
   "outputs": [
    {
     "name": "stdout",
     "output_type": "stream",
     "text": [
      "The group file bc1001/a does not exist.\n",
      "The group file bc1002/a does not exist.\n",
      "The group file bc1002/a does not exist.\n",
      "The annotation file bc1001/def does not exist.\n",
      "The annotation file bc1002/def does not exist.\n",
      "The annotation file bc1002/def does not exist.\n",
      "The count file bc1001/jkl does not exist.\n",
      "The count file bc1002/mno does not exist.\n",
      "The count file bc1002/pqr does not exist.\n"
     ]
    }
   ],
   "source": [
    "for y in newthings:\n",
    "    item = [_ for _ in newthings[y].split(\",\")]\n",
    "    if len(item) == 1:\n",
    "        newthings[y] = [a.joinpath(item[0]) for a in directories]\n",
    "    else:\n",
    "        newthings[y] = [a.joinpath(b) for a, b in zip(directories, item)]\n",
    "    \n",
    "    for i in newthings[y]:\n",
    "        if not i.exists():\n",
    "            print(f\"The {y} file {i} does not exist.\")"
   ]
  },
  {
   "cell_type": "code",
   "execution_count": 66,
   "id": "c2848870-096c-4492-b4d3-3e785b3e7e38",
   "metadata": {},
   "outputs": [
    {
     "data": {
      "text/plain": [
       "{'group': [PosixPath('bc1001/a'),\n",
       "  PosixPath('bc1002/a'),\n",
       "  PosixPath('bc1002/a')],\n",
       " 'annotation': [PosixPath('bc1001/def'),\n",
       "  PosixPath('bc1002/def'),\n",
       "  PosixPath('bc1002/def')],\n",
       " 'count': [PosixPath('bc1001/jkl'),\n",
       "  PosixPath('bc1002/mno'),\n",
       "  PosixPath('bc1002/pqr')]}"
      ]
     },
     "execution_count": 66,
     "metadata": {},
     "output_type": "execute_result"
    }
   ],
   "source": [
    "newthings"
   ]
  },
  {
   "cell_type": "code",
   "execution_count": 70,
   "id": "5c6f1d1e-83e0-4582-8323-dbb05384466f",
   "metadata": {},
   "outputs": [],
   "source": [
    "newthings.update({\"sequence\": \"things.fq\"})"
   ]
  },
  {
   "cell_type": "code",
   "execution_count": 71,
   "id": "afe4e2e9-6047-4be7-8bc1-fdf2561457b7",
   "metadata": {},
   "outputs": [
    {
     "data": {
      "text/plain": [
       "{'group': [PosixPath('bc1001/a'),\n",
       "  PosixPath('bc1002/a'),\n",
       "  PosixPath('bc1002/a')],\n",
       " 'annotation': [PosixPath('bc1001/def'),\n",
       "  PosixPath('bc1002/def'),\n",
       "  PosixPath('bc1002/def')],\n",
       " 'count': [PosixPath('bc1001/jkl'),\n",
       "  PosixPath('bc1002/mno'),\n",
       "  PosixPath('bc1002/pqr')],\n",
       " 'sequence': 'things.fq'}"
      ]
     },
     "execution_count": 71,
     "metadata": {},
     "output_type": "execute_result"
    }
   ],
   "source": [
    "newthings"
   ]
  },
  {
   "cell_type": "code",
   "execution_count": 74,
   "id": "a10bafa7-573a-4d83-bcb1-fd8132e32643",
   "metadata": {},
   "outputs": [
    {
     "data": {
      "text/plain": [
       "PosixPath('bc1002')"
      ]
     },
     "execution_count": 74,
     "metadata": {},
     "output_type": "execute_result"
    }
   ],
   "source": [
    "newthings[\"group\"][1].parent"
   ]
  },
  {
   "cell_type": "code",
   "execution_count": 76,
   "id": "cbb9a2f5-b505-4e1f-bd6b-54fed327ca50",
   "metadata": {},
   "outputs": [
    {
     "name": "stdout",
     "output_type": "stream",
     "text": [
      "Help on class map in module builtins:\n",
      "\n",
      "class map(object)\n",
      " |  map(func, *iterables) --> map object\n",
      " |  \n",
      " |  Make an iterator that computes the function using arguments from\n",
      " |  each of the iterables.  Stops when the shortest iterable is exhausted.\n",
      " |  \n",
      " |  Methods defined here:\n",
      " |  \n",
      " |  __getattribute__(self, name, /)\n",
      " |      Return getattr(self, name).\n",
      " |  \n",
      " |  __iter__(self, /)\n",
      " |      Implement iter(self).\n",
      " |  \n",
      " |  __next__(self, /)\n",
      " |      Implement next(self).\n",
      " |  \n",
      " |  __reduce__(...)\n",
      " |      Return state information for pickling.\n",
      " |  \n",
      " |  ----------------------------------------------------------------------\n",
      " |  Static methods defined here:\n",
      " |  \n",
      " |  __new__(*args, **kwargs) from builtins.type\n",
      " |      Create and return a new object.  See help(type) for accurate signature.\n",
      "\n"
     ]
    }
   ],
   "source": [
    "help(map)"
   ]
  },
  {
   "cell_type": "code",
   "execution_count": 77,
   "id": "b317b804-134e-4348-bbd3-5ed005d1ba83",
   "metadata": {},
   "outputs": [],
   "source": [
    "from functools import reduce"
   ]
  },
  {
   "cell_type": "code",
   "execution_count": 78,
   "id": "d0c5e2cf-439f-4f99-b4ef-c11fc6d4bf9c",
   "metadata": {},
   "outputs": [
    {
     "name": "stdout",
     "output_type": "stream",
     "text": [
      "Help on built-in function reduce in module _functools:\n",
      "\n",
      "reduce(...)\n",
      "    reduce(function, sequence[, initial]) -> value\n",
      "    \n",
      "    Apply a function of two arguments cumulatively to the items of a sequence,\n",
      "    from left to right, so as to reduce the sequence to a single value.\n",
      "    For example, reduce(lambda x, y: x+y, [1, 2, 3, 4, 5]) calculates\n",
      "    ((((1+2)+3)+4)+5).  If initial is present, it is placed before the items\n",
      "    of the sequence in the calculation, and serves as a default when the\n",
      "    sequence is empty.\n",
      "\n"
     ]
    }
   ],
   "source": [
    "help(reduce)"
   ]
  },
  {
   "cell_type": "code",
   "execution_count": 79,
   "id": "8af5dbdb-7bb2-4ea3-b4f3-5f0fbf484384",
   "metadata": {},
   "outputs": [],
   "source": [
    "import pyranges as pr"
   ]
  },
  {
   "cell_type": "code",
   "execution_count": 82,
   "id": "aeb8b56e-2733-4edc-88bf-8d890dab4e83",
   "metadata": {},
   "outputs": [
    {
     "data": {
      "text/plain": [
       "\u001b[0;31mSignature:\u001b[0m\n",
       "\u001b[0mpr\u001b[0m\u001b[0;34m.\u001b[0m\u001b[0mPyRanges\u001b[0m\u001b[0;34m.\u001b[0m\u001b[0mcluster\u001b[0m\u001b[0;34m(\u001b[0m\u001b[0;34m\u001b[0m\n",
       "\u001b[0;34m\u001b[0m    \u001b[0mself\u001b[0m\u001b[0;34m,\u001b[0m\u001b[0;34m\u001b[0m\n",
       "\u001b[0;34m\u001b[0m    \u001b[0mstrand\u001b[0m\u001b[0;34m=\u001b[0m\u001b[0;32mNone\u001b[0m\u001b[0;34m,\u001b[0m\u001b[0;34m\u001b[0m\n",
       "\u001b[0;34m\u001b[0m    \u001b[0mby\u001b[0m\u001b[0;34m=\u001b[0m\u001b[0;32mNone\u001b[0m\u001b[0;34m,\u001b[0m\u001b[0;34m\u001b[0m\n",
       "\u001b[0;34m\u001b[0m    \u001b[0mslack\u001b[0m\u001b[0;34m=\u001b[0m\u001b[0;36m0\u001b[0m\u001b[0;34m,\u001b[0m\u001b[0;34m\u001b[0m\n",
       "\u001b[0;34m\u001b[0m    \u001b[0mcount\u001b[0m\u001b[0;34m=\u001b[0m\u001b[0;32mFalse\u001b[0m\u001b[0;34m,\u001b[0m\u001b[0;34m\u001b[0m\n",
       "\u001b[0;34m\u001b[0m    \u001b[0mnb_cpu\u001b[0m\u001b[0;34m=\u001b[0m\u001b[0;36m1\u001b[0m\u001b[0;34m,\u001b[0m\u001b[0;34m\u001b[0m\n",
       "\u001b[0;34m\u001b[0m\u001b[0;34m)\u001b[0m\u001b[0;34m\u001b[0m\u001b[0;34m\u001b[0m\u001b[0m\n",
       "\u001b[0;31mDocstring:\u001b[0m\n",
       "Give overlapping intervals a common id.\n",
       "\n",
       "Parameters\n",
       "----------\n",
       "strand : bool, default None, i.e. auto\n",
       "\n",
       "    Whether to ignore strand information if PyRanges is stranded.\n",
       "\n",
       "by : str or list, default None\n",
       "\n",
       "    Only intervals with an equal value in column(s) `by` are clustered.\n",
       "\n",
       "slack : int, default 0\n",
       "\n",
       "    Consider intervals separated by less than `slack` to be in the same cluster. If `slack`\n",
       "    is negative, intervals overlapping less than `slack` are not considered to be in the\n",
       "    same cluster.\n",
       "\n",
       "nb_cpu: int, default 1\n",
       "\n",
       "    How many cpus to use. Can at most use 1 per chromosome or chromosome/strand tuple.\n",
       "    Will only lead to speedups on large datasets.\n",
       "\n",
       "Returns\n",
       "-------\n",
       "PyRanges\n",
       "    PyRanges with an ID-column \"Cluster\" added.\n",
       "\n",
       "See also\n",
       "--------\n",
       "\n",
       "PyRanges.merge: combine overlapping intervals into one\n",
       "\n",
       "Examples\n",
       "--------\n",
       "\n",
       ">>> gr = pr.from_dict({\"Chromosome\": [1, 1, 1, 1], \"Start\": [1, 2, 3, 9],\n",
       "...                    \"End\": [3, 3, 10, 12], \"Gene\": [1, 2, 3, 3]})\n",
       ">>> gr\n",
       "+--------------+-----------+-----------+-----------+\n",
       "|   Chromosome |     Start |       End |      Gene |\n",
       "|   (category) |   (int32) |   (int32) |   (int64) |\n",
       "|--------------+-----------+-----------+-----------|\n",
       "|            1 |         1 |         3 |         1 |\n",
       "|            1 |         2 |         3 |         2 |\n",
       "|            1 |         3 |        10 |         3 |\n",
       "|            1 |         9 |        12 |         3 |\n",
       "+--------------+-----------+-----------+-----------+\n",
       "Unstranded PyRanges object has 4 rows and 4 columns from 1 chromosomes.\n",
       "For printing, the PyRanges was sorted on Chromosome.\n",
       "\n",
       ">>> gr.cluster()\n",
       "+--------------+-----------+-----------+-----------+-----------+\n",
       "|   Chromosome |     Start |       End |      Gene |   Cluster |\n",
       "|   (category) |   (int32) |   (int32) |   (int64) |   (int32) |\n",
       "|--------------+-----------+-----------+-----------+-----------|\n",
       "|            1 |         1 |         3 |         1 |         1 |\n",
       "|            1 |         2 |         3 |         2 |         1 |\n",
       "|            1 |         3 |        10 |         3 |         1 |\n",
       "|            1 |         9 |        12 |         3 |         1 |\n",
       "+--------------+-----------+-----------+-----------+-----------+\n",
       "Unstranded PyRanges object has 4 rows and 5 columns from 1 chromosomes.\n",
       "For printing, the PyRanges was sorted on Chromosome.\n",
       "\n",
       ">>> gr.cluster(by=\"Gene\", count=True)\n",
       "+--------------+-----------+-----------+-----------+-----------+-----------+\n",
       "|   Chromosome |     Start |       End |      Gene |   Cluster |     Count |\n",
       "|   (category) |   (int32) |   (int32) |   (int64) |   (int32) |   (int64) |\n",
       "|--------------+-----------+-----------+-----------+-----------+-----------|\n",
       "|            1 |         1 |         3 |         1 |         1 |         1 |\n",
       "|            1 |         2 |         3 |         2 |         2 |         1 |\n",
       "|            1 |         3 |        10 |         3 |         3 |         2 |\n",
       "|            1 |         9 |        12 |         3 |         3 |         2 |\n",
       "+--------------+-----------+-----------+-----------+-----------+-----------+\n",
       "Unstranded PyRanges object has 4 rows and 6 columns from 1 chromosomes.\n",
       "For printing, the PyRanges was sorted on Chromosome.\n",
       "\n",
       "Avoid clustering bookended intervals with slack=-1:\n",
       "\n",
       ">>> gr.cluster(slack=-1)\n",
       "+--------------+-----------+-----------+-----------+-----------+\n",
       "|   Chromosome |     Start |       End |      Gene |   Cluster |\n",
       "|   (category) |   (int32) |   (int32) |   (int64) |   (int32) |\n",
       "|--------------+-----------+-----------+-----------+-----------|\n",
       "|            1 |         1 |         3 |         1 |         1 |\n",
       "|            1 |         2 |         3 |         2 |         1 |\n",
       "|            1 |         3 |        10 |         3 |         2 |\n",
       "|            1 |         9 |        12 |         3 |         2 |\n",
       "+--------------+-----------+-----------+-----------+-----------+\n",
       "Unstranded PyRanges object has 4 rows and 5 columns from 1 chromosomes.\n",
       "For printing, the PyRanges was sorted on Chromosome.\n",
       "\n",
       ">>> gr2 = pr.data.ensembl_gtf()[[\"Feature\", \"Source\"]]\n",
       ">>> gr2.cluster(by=[\"Feature\", \"Source\"])\n",
       "+--------------+--------------+---------------+-----------+-----------+--------------+-----------+\n",
       "| Chromosome   | Feature      | Source        | Start     | End       | Strand       | Cluster   |\n",
       "| (category)   | (category)   | (object)      | (int32)   | (int32)   | (category)   | (int32)   |\n",
       "|--------------+--------------+---------------+-----------+-----------+--------------+-----------|\n",
       "| 1            | CDS          | ensembl       | 69090     | 70005     | +            | 1         |\n",
       "| 1            | CDS          | ensembl       | 925941    | 926013    | +            | 2         |\n",
       "| 1            | CDS          | ensembl       | 925941    | 926013    | +            | 2         |\n",
       "| 1            | CDS          | ensembl       | 925941    | 926013    | +            | 2         |\n",
       "| ...          | ...          | ...           | ...       | ...       | ...          | ...       |\n",
       "| 1            | transcript   | havana_tagene | 167128    | 169240    | -            | 1142      |\n",
       "| 1            | transcript   | mirbase       | 17368     | 17436     | -            | 1143      |\n",
       "| 1            | transcript   | mirbase       | 187890    | 187958    | -            | 1144      |\n",
       "| 1            | transcript   | mirbase       | 632324    | 632413    | -            | 1145      |\n",
       "+--------------+--------------+---------------+-----------+-----------+--------------+-----------+\n",
       "Stranded PyRanges object has 2,446 rows and 7 columns from 1 chromosomes.\n",
       "For printing, the PyRanges was sorted on Chromosome and Strand.\n",
       "\u001b[0;31mFile:\u001b[0m      ~/miniconda3/envs/brownie/lib/python3.9/site-packages/pyranges/pyranges.py\n",
       "\u001b[0;31mType:\u001b[0m      function\n"
      ]
     },
     "metadata": {},
     "output_type": "display_data"
    }
   ],
   "source": [
    "?pr.PyRanges.cluster"
   ]
  }
 ],
 "metadata": {
  "kernelspec": {
   "display_name": "Python 3",
   "language": "python",
   "name": "python3"
  },
  "language_info": {
   "codemirror_mode": {
    "name": "ipython",
    "version": 3
   },
   "file_extension": ".py",
   "mimetype": "text/x-python",
   "name": "python",
   "nbconvert_exporter": "python",
   "pygments_lexer": "ipython3",
   "version": "3.9.4"
  }
 },
 "nbformat": 4,
 "nbformat_minor": 5
}
