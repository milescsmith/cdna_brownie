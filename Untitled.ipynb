{
 "cells": [
  {
   "cell_type": "code",
   "execution_count": 2,
   "id": "eb6a5d71-7814-48ef-938a-5ec54939a6a1",
   "metadata": {},
   "outputs": [],
   "source": [
    "import h5py"
   ]
  },
  {
   "cell_type": "code",
   "execution_count": 3,
   "id": "96dae230-4805-4c84-ac1f-948f3080df6c",
   "metadata": {},
   "outputs": [],
   "source": [
    "mol = h5py.File(\"/mnt/data/Lab/Lab_Data/01_Active_Projects/monocyte_vil10/scrnaseq/set1/molecule_info.h5\", \"r\")"
   ]
  },
  {
   "cell_type": "code",
   "execution_count": 6,
   "id": "e47b0218-992f-4d18-b65e-306822b905fd",
   "metadata": {},
   "outputs": [
    {
     "data": {
      "text/plain": [
       "['barcode_idx',\n",
       " 'barcode_info',\n",
       " 'barcodes',\n",
       " 'count',\n",
       " 'feature_idx',\n",
       " 'features',\n",
       " 'gem_group',\n",
       " 'library_idx',\n",
       " 'library_info',\n",
       " 'metrics_json',\n",
       " 'umi',\n",
       " 'umi_type']"
      ]
     },
     "execution_count": 6,
     "metadata": {},
     "output_type": "execute_result"
    }
   ],
   "source": [
    "list(mol.keys())"
   ]
  },
  {
   "cell_type": "code",
   "execution_count": 14,
   "id": "fcf5b008-54a9-4180-91c7-d2ead98a7ddb",
   "metadata": {},
   "outputs": [
    {
     "data": {
      "text/plain": [
       "(52373929,)"
      ]
     },
     "execution_count": 14,
     "metadata": {},
     "output_type": "execute_result"
    }
   ],
   "source": [
    "mol['barcode_idx'].shape"
   ]
  },
  {
   "cell_type": "code",
   "execution_count": 15,
   "id": "c05c049c-075f-4f7f-bdb3-8492ec380116",
   "metadata": {},
   "outputs": [
    {
     "data": {
      "text/plain": [
       "array([ 7, 11, 17, 17, 17, 17, 17, 17, 17], dtype=uint64)"
      ]
     },
     "execution_count": 15,
     "metadata": {},
     "output_type": "execute_result"
    }
   ],
   "source": [
    "mol['barcode_idx'][1:10]"
   ]
  },
  {
   "cell_type": "code",
   "execution_count": 17,
   "id": "f16fe273-4b48-4d39-b90e-4aead4f79a2c",
   "metadata": {},
   "outputs": [
    {
     "data": {
      "text/plain": [
       "<HDF5 group \"/barcode_info\" (2 members)>"
      ]
     },
     "execution_count": 17,
     "metadata": {},
     "output_type": "execute_result"
    }
   ],
   "source": [
    "mol[\"barcode_info\"]"
   ]
  },
  {
   "cell_type": "code",
   "execution_count": 18,
   "id": "1845d6e1-8037-4a70-8a9f-1a0a2a7d3e95",
   "metadata": {},
   "outputs": [
    {
     "data": {
      "text/plain": [
       "<KeysViewHDF5 ['genomes', 'pass_filter']>"
      ]
     },
     "execution_count": 18,
     "metadata": {},
     "output_type": "execute_result"
    }
   ],
   "source": [
    "mol[\"barcode_info\"].keys()"
   ]
  },
  {
   "cell_type": "code",
   "execution_count": 20,
   "id": "614135ab-c046-4c12-b35e-b13d68d41416",
   "metadata": {},
   "outputs": [
    {
     "data": {
      "text/plain": [
       "b'GRCh38'"
      ]
     },
     "execution_count": 20,
     "metadata": {},
     "output_type": "execute_result"
    }
   ],
   "source": [
    "mol[\"barcode_info\"][\"genomes\"][0]"
   ]
  },
  {
   "cell_type": "code",
   "execution_count": 21,
   "id": "1a003dc7-9db3-4460-84ec-f42c10833326",
   "metadata": {},
   "outputs": [
    {
     "data": {
      "text/plain": [
       "b'mm10'"
      ]
     },
     "execution_count": 21,
     "metadata": {},
     "output_type": "execute_result"
    }
   ],
   "source": [
    "mol[\"barcode_info\"][\"genomes\"][1]"
   ]
  },
  {
   "cell_type": "code",
   "execution_count": 24,
   "id": "426aae9a-0377-4fa0-823c-93f5f933cc20",
   "metadata": {},
   "outputs": [
    {
     "data": {
      "text/plain": [
       "<HDF5 dataset \"barcodes\": shape (6794880,), type \"|S20\">"
      ]
     },
     "execution_count": 24,
     "metadata": {},
     "output_type": "execute_result"
    }
   ],
   "source": [
    "mol['barcodes']"
   ]
  },
  {
   "cell_type": "code",
   "execution_count": 25,
   "id": "c551c243-3703-4a89-82e2-c75afd9e51ac",
   "metadata": {},
   "outputs": [
    {
     "data": {
      "text/plain": [
       "array([b'AAACCCAAGAAACACT', b'AAACCCAAGAAACCAT', b'AAACCCAAGAAACCCA',\n",
       "       b'AAACCCAAGAAACCCG', b'AAACCCAAGAAACCTG', b'AAACCCAAGAAACGAA',\n",
       "       b'AAACCCAAGAAACGTC', b'AAACCCAAGAAACTAC', b'AAACCCAAGAAACTCA',\n",
       "       b'AAACCCAAGAAACTGC'], dtype='|S20')"
      ]
     },
     "execution_count": 25,
     "metadata": {},
     "output_type": "execute_result"
    }
   ],
   "source": [
    "mol['barcodes'][0:10]"
   ]
  },
  {
   "cell_type": "code",
   "execution_count": 26,
   "id": "e2e5a45c-8a25-4676-9a2e-35e4c0beed30",
   "metadata": {},
   "outputs": [
    {
     "data": {
      "text/plain": [
       "<HDF5 dataset \"count\": shape (52373929,), type \"<u4\">"
      ]
     },
     "execution_count": 26,
     "metadata": {},
     "output_type": "execute_result"
    }
   ],
   "source": [
    "mol['count']"
   ]
  },
  {
   "cell_type": "code",
   "execution_count": 27,
   "id": "c123de79-99c3-4964-ac25-cdb675822206",
   "metadata": {},
   "outputs": [
    {
     "data": {
      "text/plain": [
       "array([ 1,  1,  1,  3,  1,  5,  3, 16,  7, 27], dtype=uint32)"
      ]
     },
     "execution_count": 27,
     "metadata": {},
     "output_type": "execute_result"
    }
   ],
   "source": [
    "mol['count'][0:10]"
   ]
  },
  {
   "cell_type": "code",
   "execution_count": 28,
   "id": "71ecce9c-93ad-44a2-bff9-066d54b12101",
   "metadata": {},
   "outputs": [
    {
     "data": {
      "text/plain": [
       "array([b'[{\"library_id\":0,\"library_type\":\"Gene Expression\",\"gem_group\":1,\"target_set_name\":null},{\"library_id\":1,\"library_type\":\"Antibody Capture\",\"gem_group\":1,\"target_set_name\":null}]'],\n",
       "      dtype='|S4096')"
      ]
     },
     "execution_count": 28,
     "metadata": {},
     "output_type": "execute_result"
    }
   ],
   "source": [
    "mol['library_info'][0:10]"
   ]
  },
  {
   "cell_type": "code",
   "execution_count": 29,
   "id": "40a15222-db17-44ed-bd4d-825afb356a06",
   "metadata": {},
   "outputs": [
    {
     "data": {
      "text/plain": [
       "<HDF5 dataset \"gem_group\": shape (52373929,), type \"<u2\">"
      ]
     },
     "execution_count": 29,
     "metadata": {},
     "output_type": "execute_result"
    }
   ],
   "source": [
    "mol['gem_group']"
   ]
  },
  {
   "cell_type": "code",
   "execution_count": 30,
   "id": "14a28c59-b961-411f-a7e2-eb92d6ff3ca0",
   "metadata": {},
   "outputs": [
    {
     "data": {
      "text/plain": [
       "array([1, 1, 1, 1, 1, 1, 1, 1, 1, 1], dtype=uint16)"
      ]
     },
     "execution_count": 30,
     "metadata": {},
     "output_type": "execute_result"
    }
   ],
   "source": [
    "mol['gem_group'][0:10]"
   ]
  },
  {
   "cell_type": "code",
   "execution_count": 31,
   "id": "42df2294-f2b9-442c-ab08-a2a34d502524",
   "metadata": {},
   "outputs": [
    {
     "name": "stdout",
     "output_type": "stream",
     "text": [
      "barcode_idx: <class 'h5py._hl.dataset.Dataset'>\n",
      "barcode_info: <class 'h5py._hl.group.Group'>\n",
      "barcodes: <class 'h5py._hl.dataset.Dataset'>\n",
      "count: <class 'h5py._hl.dataset.Dataset'>\n",
      "feature_idx: <class 'h5py._hl.dataset.Dataset'>\n",
      "features: <class 'h5py._hl.group.Group'>\n",
      "gem_group: <class 'h5py._hl.dataset.Dataset'>\n",
      "library_idx: <class 'h5py._hl.dataset.Dataset'>\n",
      "library_info: <class 'h5py._hl.dataset.Dataset'>\n",
      "metrics_json: <class 'h5py._hl.dataset.Dataset'>\n",
      "umi: <class 'h5py._hl.dataset.Dataset'>\n",
      "umi_type: <class 'h5py._hl.dataset.Dataset'>\n"
     ]
    }
   ],
   "source": [
    "for _ in list(mol.keys()):\n",
    "    print(f\"{_}: {type(mol[_])}\")"
   ]
  },
  {
   "cell_type": "code",
   "execution_count": 50,
   "id": "14a3e63c-2659-4215-8eec-e59546ca0819",
   "metadata": {},
   "outputs": [
    {
     "data": {
      "text/plain": [
       "<KeysViewHDF5 ['genomes', 'pass_filter']>"
      ]
     },
     "execution_count": 50,
     "metadata": {},
     "output_type": "execute_result"
    }
   ],
   "source": [
    "mol[\"barcode_info\"].keys()"
   ]
  },
  {
   "cell_type": "code",
   "execution_count": 55,
   "id": "d8e7b717-2489-4dda-aad5-aa83078b6269",
   "metadata": {},
   "outputs": [
    {
     "data": {
      "text/plain": [
       "array([b'GRCh38', b'mm10'], dtype='|S256')"
      ]
     },
     "execution_count": 55,
     "metadata": {},
     "output_type": "execute_result"
    }
   ],
   "source": [
    "mol[\"barcode_info\"][\"genomes\"][0:2]"
   ]
  },
  {
   "cell_type": "code",
   "execution_count": 56,
   "id": "0fe76a55-7b58-431e-bf4e-583ecce500b8",
   "metadata": {},
   "outputs": [
    {
     "data": {
      "text/plain": [
       "<HDF5 dataset \"pass_filter\": shape (4436, 3), type \"<u8\">"
      ]
     },
     "execution_count": 56,
     "metadata": {},
     "output_type": "execute_result"
    }
   ],
   "source": [
    "mol[\"barcode_info\"][\"pass_filter\"]"
   ]
  },
  {
   "cell_type": "code",
   "execution_count": 60,
   "id": "75cbe368-ab64-463c-87fc-cf67b7080fc2",
   "metadata": {},
   "outputs": [
    {
     "data": {
      "text/plain": [
       "array([[2691,    0,    0],\n",
       "       [2691,    1,    0],\n",
       "       [6184,    0,    0],\n",
       "       [6184,    1,    0],\n",
       "       [9068,    0,    0]], dtype=uint64)"
      ]
     },
     "execution_count": 60,
     "metadata": {},
     "output_type": "execute_result"
    }
   ],
   "source": [
    "mol[\"barcode_info\"][\"pass_filter\"][0:5,0:3]"
   ]
  },
  {
   "cell_type": "code",
   "execution_count": 61,
   "id": "3e8d18f2-94d2-4a46-b254-4cc9854a2d9b",
   "metadata": {},
   "outputs": [
    {
     "data": {
      "text/plain": [
       "<KeysViewHDF5 ['_all_tag_keys', 'feature_type', 'genome', 'id', 'name', 'pattern', 'read', 'sequence']>"
      ]
     },
     "execution_count": 61,
     "metadata": {},
     "output_type": "execute_result"
    }
   ],
   "source": [
    "mol[\"features\"].keys()"
   ]
  },
  {
   "cell_type": "code",
   "execution_count": 43,
   "id": "191a2086-9426-40bb-8bfa-63605433726f",
   "metadata": {},
   "outputs": [
    {
     "data": {
      "text/plain": [
       "True"
      ]
     },
     "execution_count": 43,
     "metadata": {},
     "output_type": "execute_result"
    }
   ],
   "source": [
    "\"shape\" in dir(mol[\"barcode_idx\"])"
   ]
  },
  {
   "cell_type": "code",
   "execution_count": 44,
   "id": "4bed5d92-dbe7-4ee3-9f9f-916eda6f2657",
   "metadata": {},
   "outputs": [
    {
     "name": "stdout",
     "output_type": "stream",
     "text": [
      "barcode_idx: (52373929,)\n",
      "barcodes: (6794880,)\n",
      "count: (52373929,)\n",
      "feature_idx: (52373929,)\n",
      "gem_group: (52373929,)\n",
      "library_idx: (52373929,)\n",
      "library_info: (1,)\n",
      "metrics_json: ()\n",
      "umi: (52373929,)\n",
      "umi_type: (52373929,)\n"
     ]
    }
   ],
   "source": [
    "for _ in list(mol.keys()):\n",
    "    if \"shape\" in dir(mol[_]):\n",
    "        print(f\"{_}: { mol[_].shape }\")"
   ]
  },
  {
   "cell_type": "code",
   "execution_count": 45,
   "id": "248b7789-3195-4d5e-9240-b97296031436",
   "metadata": {},
   "outputs": [],
   "source": [
    "import pandas as pd"
   ]
  },
  {
   "cell_type": "code",
   "execution_count": 48,
   "id": "53544df6-d371-426f-a2ca-4afd5a406098",
   "metadata": {},
   "outputs": [
    {
     "data": {
      "text/html": [
       "<div>\n",
       "<style scoped>\n",
       "    .dataframe tbody tr th:only-of-type {\n",
       "        vertical-align: middle;\n",
       "    }\n",
       "\n",
       "    .dataframe tbody tr th {\n",
       "        vertical-align: top;\n",
       "    }\n",
       "\n",
       "    .dataframe thead th {\n",
       "        text-align: right;\n",
       "    }\n",
       "</style>\n",
       "<table border=\"1\" class=\"dataframe\">\n",
       "  <thead>\n",
       "    <tr style=\"text-align: right;\">\n",
       "      <th></th>\n",
       "      <th>barcode_idx</th>\n",
       "      <th>count</th>\n",
       "      <th>feature_idx</th>\n",
       "      <th>gem_group</th>\n",
       "      <th>library_idx</th>\n",
       "      <th>umi</th>\n",
       "      <th>umi_type</th>\n",
       "    </tr>\n",
       "  </thead>\n",
       "  <tbody>\n",
       "    <tr>\n",
       "      <th>0</th>\n",
       "      <td>2</td>\n",
       "      <td>1</td>\n",
       "      <td>25641</td>\n",
       "      <td>1</td>\n",
       "      <td>0</td>\n",
       "      <td>5526545</td>\n",
       "      <td>1</td>\n",
       "    </tr>\n",
       "    <tr>\n",
       "      <th>1</th>\n",
       "      <td>7</td>\n",
       "      <td>1</td>\n",
       "      <td>68890</td>\n",
       "      <td>1</td>\n",
       "      <td>1</td>\n",
       "      <td>608245</td>\n",
       "      <td>0</td>\n",
       "    </tr>\n",
       "    <tr>\n",
       "      <th>2</th>\n",
       "      <td>11</td>\n",
       "      <td>1</td>\n",
       "      <td>68914</td>\n",
       "      <td>1</td>\n",
       "      <td>1</td>\n",
       "      <td>8333365</td>\n",
       "      <td>0</td>\n",
       "    </tr>\n",
       "    <tr>\n",
       "      <th>3</th>\n",
       "      <td>17</td>\n",
       "      <td>3</td>\n",
       "      <td>2059</td>\n",
       "      <td>1</td>\n",
       "      <td>0</td>\n",
       "      <td>8412339</td>\n",
       "      <td>1</td>\n",
       "    </tr>\n",
       "    <tr>\n",
       "      <th>4</th>\n",
       "      <td>17</td>\n",
       "      <td>1</td>\n",
       "      <td>2059</td>\n",
       "      <td>1</td>\n",
       "      <td>0</td>\n",
       "      <td>12866419</td>\n",
       "      <td>1</td>\n",
       "    </tr>\n",
       "    <tr>\n",
       "      <th>...</th>\n",
       "      <td>...</td>\n",
       "      <td>...</td>\n",
       "      <td>...</td>\n",
       "      <td>...</td>\n",
       "      <td>...</td>\n",
       "      <td>...</td>\n",
       "      <td>...</td>\n",
       "    </tr>\n",
       "    <tr>\n",
       "      <th>52373924</th>\n",
       "      <td>6794874</td>\n",
       "      <td>1</td>\n",
       "      <td>68890</td>\n",
       "      <td>1</td>\n",
       "      <td>1</td>\n",
       "      <td>15378209</td>\n",
       "      <td>0</td>\n",
       "    </tr>\n",
       "    <tr>\n",
       "      <th>52373925</th>\n",
       "      <td>6794874</td>\n",
       "      <td>1</td>\n",
       "      <td>68896</td>\n",
       "      <td>1</td>\n",
       "      <td>1</td>\n",
       "      <td>1029604</td>\n",
       "      <td>0</td>\n",
       "    </tr>\n",
       "    <tr>\n",
       "      <th>52373926</th>\n",
       "      <td>6794874</td>\n",
       "      <td>1</td>\n",
       "      <td>68909</td>\n",
       "      <td>1</td>\n",
       "      <td>1</td>\n",
       "      <td>7389873</td>\n",
       "      <td>0</td>\n",
       "    </tr>\n",
       "    <tr>\n",
       "      <th>52373927</th>\n",
       "      <td>6794874</td>\n",
       "      <td>1</td>\n",
       "      <td>68909</td>\n",
       "      <td>1</td>\n",
       "      <td>1</td>\n",
       "      <td>15841420</td>\n",
       "      <td>0</td>\n",
       "    </tr>\n",
       "    <tr>\n",
       "      <th>52373928</th>\n",
       "      <td>6794875</td>\n",
       "      <td>7</td>\n",
       "      <td>19845</td>\n",
       "      <td>1</td>\n",
       "      <td>0</td>\n",
       "      <td>244861</td>\n",
       "      <td>1</td>\n",
       "    </tr>\n",
       "  </tbody>\n",
       "</table>\n",
       "<p>52373929 rows × 7 columns</p>\n",
       "</div>"
      ],
      "text/plain": [
       "          barcode_idx  count  feature_idx  gem_group  library_idx       umi  \\\n",
       "0                   2      1        25641          1            0   5526545   \n",
       "1                   7      1        68890          1            1    608245   \n",
       "2                  11      1        68914          1            1   8333365   \n",
       "3                  17      3         2059          1            0   8412339   \n",
       "4                  17      1         2059          1            0  12866419   \n",
       "...               ...    ...          ...        ...          ...       ...   \n",
       "52373924      6794874      1        68890          1            1  15378209   \n",
       "52373925      6794874      1        68896          1            1   1029604   \n",
       "52373926      6794874      1        68909          1            1   7389873   \n",
       "52373927      6794874      1        68909          1            1  15841420   \n",
       "52373928      6794875      7        19845          1            0    244861   \n",
       "\n",
       "          umi_type  \n",
       "0                1  \n",
       "1                0  \n",
       "2                0  \n",
       "3                1  \n",
       "4                1  \n",
       "...            ...  \n",
       "52373924         0  \n",
       "52373925         0  \n",
       "52373926         0  \n",
       "52373927         0  \n",
       "52373928         1  \n",
       "\n",
       "[52373929 rows x 7 columns]"
      ]
     },
     "execution_count": 48,
     "metadata": {},
     "output_type": "execute_result"
    }
   ],
   "source": [
    "pd.DataFrame(data = {\n",
    "    \"barcode_idx\": mol[\"barcode_idx\"],\n",
    "    \"count\": mol[\"count\"],\n",
    "    \"feature_idx\": mol[\"feature_idx\"],\n",
    "    \"gem_group\": mol[\"gem_group\"],\n",
    "    \"library_idx\": mol[\"library_idx\"],\n",
    "    \"umi\": mol[\"umi\"],\n",
    "    \"umi_type\": mol[\"umi_type\"],\n",
    "})"
   ]
  }
 ],
 "metadata": {
  "kernelspec": {
   "display_name": "Python 3",
   "language": "python",
   "name": "python3"
  },
  "language_info": {
   "codemirror_mode": {
    "name": "ipython",
    "version": 3
   },
   "file_extension": ".py",
   "mimetype": "text/x-python",
   "name": "python",
   "nbconvert_exporter": "python",
   "pygments_lexer": "ipython3",
   "version": "3.9.4"
  }
 },
 "nbformat": 4,
 "nbformat_minor": 5
}
